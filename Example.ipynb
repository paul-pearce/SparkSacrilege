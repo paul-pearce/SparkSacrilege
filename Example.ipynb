{
 "cells": [
  {
   "cell_type": "code",
   "execution_count": 7,
   "metadata": {
    "collapsed": false
   },
   "outputs": [],
   "source": [
    "from pyspark.sql import Row\n",
    "from pyspark.sql.functions import udf\n",
    "from pyspark.sql.types import BooleanType, IntegerType"
   ]
  },
  {
   "cell_type": "code",
   "execution_count": 8,
   "metadata": {
    "collapsed": false
   },
   "outputs": [
    {
     "name": "stdout",
     "output_type": "stream",
     "text": [
      "+------+------+\n",
      "|double|single|\n",
      "+------+------+\n",
      "|     1|     1|\n",
      "|     4|     2|\n",
      "|     9|     3|\n",
      "|    16|     4|\n",
      "|    25|     5|\n",
      "+------+------+\n",
      "\n"
     ]
    }
   ],
   "source": [
    "df = spark.createDataFrame(sc.parallelize(range(1, 6)).map(lambda i: Row(single=i, double=i ** 2)))\n",
    "df.show()"
   ]
  },
  {
   "cell_type": "code",
   "execution_count": 9,
   "metadata": {
    "collapsed": false
   },
   "outputs": [],
   "source": [
    "from SparkSacrilege import SparkSacrilege"
   ]
  },
  {
   "cell_type": "code",
   "execution_count": 10,
   "metadata": {
    "collapsed": false
   },
   "outputs": [],
   "source": [
    "ss = SparkSacrilege(\"SampleLib\")"
   ]
  },
  {
   "cell_type": "code",
   "execution_count": 11,
   "metadata": {
    "collapsed": false
   },
   "outputs": [],
   "source": [
    "trueUDF = udf(ss.returnTrue, BooleanType())\n",
    "valueUDF = udf(ss.returnValue, IntegerType())"
   ]
  },
  {
   "cell_type": "code",
   "execution_count": 12,
   "metadata": {
    "collapsed": false
   },
   "outputs": [
    {
     "name": "stdout",
     "output_type": "stream",
     "text": [
      "+------+------+----+-------------+\n",
      "|double|single|true|repeat_single|\n",
      "+------+------+----+-------------+\n",
      "|     1|     1|true|            1|\n",
      "|     4|     2|true|            2|\n",
      "|     9|     3|true|            3|\n",
      "|    16|     4|true|            4|\n",
      "|    25|     5|true|            5|\n",
      "+------+------+----+-------------+\n",
      "\n"
     ]
    }
   ],
   "source": [
    "df.withColumn(\"true\", trueUDF()).withColumn(\"repeat_single\", valueUDF(\"single\")).show()"
   ]
  }
 ],
 "metadata": {
  "kernelspec": {
   "display_name": "Python 2",
   "language": "python",
   "name": "python2"
  },
  "language_info": {
   "codemirror_mode": {
    "name": "ipython",
    "version": 2
   },
   "file_extension": ".py",
   "mimetype": "text/x-python",
   "name": "python",
   "nbconvert_exporter": "python",
   "pygments_lexer": "ipython2",
   "version": "2.7.6"
  }
 },
 "nbformat": 4,
 "nbformat_minor": 0
}
